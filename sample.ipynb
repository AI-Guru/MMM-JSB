{
 "cells": [
  {
   "cell_type": "markdown",
   "metadata": {},
   "source": [
    "# License.\n",
    "Copyright 2021 Tristan Behrens.\n",
    "\n",
    "Licensed under the Apache License, Version 2.0 (the \"License\");\n",
    "you may not use this file except in compliance with the License.\n",
    "You may obtain a copy of the License at\n",
    "\n",
    "    http://www.apache.org/licenses/LICENSE-2.0\n",
    "\n",
    "Unless required by applicable law or agreed to in writing, software\n",
    "distributed under the License is distributed on an \"AS IS\" BASIS,\n",
    "WITHOUT WARRANTIES OR CONDITIONS OF ANY KIND, either express or implied.\n",
    "See the License for the specific language governing permissions and\n",
    "limitations under the License."
   ]
  },
  {
   "cell_type": "markdown",
   "metadata": {},
   "source": [
    "# Sampling using the trained model."
   ]
  },
  {
   "cell_type": "code",
   "execution_count": null,
   "metadata": {},
   "outputs": [],
   "source": [
    "import tensorflow as tf\n",
    "from transformers import GPT2LMHeadModel, TFGPT2LMHeadModel\n",
    "from transformers import PreTrainedTokenizerFast\n",
    "from tokenizers import Tokenizer\n",
    "import os\n",
    "import numpy as np\n",
    "from source.helpers.samplinghelpers import *\n",
    "\n",
    "# Where the checkpoint lives.\n",
    "# Note can be downloaded from: https://ai-guru.s3.eu-central-1.amazonaws.com/mmm-jsb/mmm_jsb_checkpoints.zip\n",
    "check_point_path = os.path.join(\"checkpoints\", \"20210411-1426\")\n",
    "\n",
    "# Load the validation data.\n",
    "validation_data_path = os.path.join(check_point_path, \"datasets\", \"jsb_mmmtrack\", \"token_sequences_valid.txt\")\n",
    "\n",
    "# Load the tokenizer.\n",
    "tokenizer_path = os.path.join(check_point_path, \"datasets\", \"jsb_mmmtrack\", \"tokenizer.json\")\n",
    "tokenizer = Tokenizer.from_file(tokenizer_path)\n",
    "tokenizer = PreTrainedTokenizerFast(tokenizer_file=tokenizer_path)\n",
    "tokenizer.add_special_tokens({'pad_token': '[PAD]'})\n",
    "\n",
    "# Load the model.\n",
    "model_path = os.path.join(check_point_path, \"training\", \"jsb_mmmtrack\", \"best_model\")\n",
    "model = GPT2LMHeadModel.from_pretrained(model_path)\n",
    "\n",
    "print(\"Model loaded.\")"
   ]
  },
  {
   "cell_type": "code",
   "execution_count": null,
   "metadata": {
    "scrolled": false
   },
   "outputs": [],
   "source": [
    "priming_sample, priming_sample_original = get_priming_token_sequence(\n",
    "    validation_data_path,\n",
    "    stop_on_track_end=0,\n",
    "    stop_after_n_tokens=20,\n",
    "    return_original=True\n",
    ")\n",
    "\n",
    "generated_sample = generate(model, tokenizer, priming_sample)\n",
    "\n",
    "print(\"Original sample\")\n",
    "render_token_sequence(priming_sample_original, use_program=False)\n",
    "\n",
    "print(\"Reduced sample\")\n",
    "render_token_sequence(priming_sample, use_program=False)\n",
    "\n",
    "print(\"Reconstructed sample\")\n",
    "render_token_sequence(generated_sample, use_program=False)"
   ]
  },
  {
   "cell_type": "code",
   "execution_count": null,
   "metadata": {},
   "outputs": [],
   "source": []
  }
 ],
 "metadata": {
  "kernelspec": {
   "display_name": "Python 3",
   "language": "python",
   "name": "python3"
  },
  "language_info": {
   "codemirror_mode": {
    "name": "ipython",
    "version": 3
   },
   "file_extension": ".py",
   "mimetype": "text/x-python",
   "name": "python",
   "nbconvert_exporter": "python",
   "pygments_lexer": "ipython3",
   "version": "3.8.2"
  }
 },
 "nbformat": 4,
 "nbformat_minor": 4
}
